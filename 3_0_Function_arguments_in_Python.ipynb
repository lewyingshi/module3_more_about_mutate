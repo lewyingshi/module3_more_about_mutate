{
 "cells": [
  {
   "cell_type": "markdown",
   "metadata": {},
   "source": [
    "# Function arguments in Python\n",
    "\n",
    "In this lecture, we will explore the four types of functional arguments in Python, namely\n",
    "\n",
    "1. Position-only arguments (only in Python 3.8--not in Anaconda as of Feb. 2021).\n",
    "    1. *Skipping for now*\n",
    "2. Positional or keyword arguments.\n",
    "3. Varargs (a variable number of extra arguments).\n",
    "4. Keyword only arguments.\n",
    "5. kwargs (a variable number of extra keyword arguments)"
   ]
  },
  {
   "cell_type": "markdown",
   "metadata": {},
   "source": [
    "## Note on position-only arguments.\n",
    "\n",
    "A new type of argument was introduced in Python 3.8, but Anaconda hasn't been upgraded yet due to some incompatibility with certain packages.  We will be ignoring this type of argument for now.  Expect this lecture to be updated in the future."
   ]
  },
  {
   "cell_type": "code",
   "execution_count": 1,
   "metadata": {},
   "outputs": [],
   "source": [
    "import sys"
   ]
  },
  {
   "cell_type": "code",
   "execution_count": 2,
   "metadata": {},
   "outputs": [
    {
     "data": {
      "text/plain": [
       "'3.7.6 (default, Jan  8 2020, 13:42:34) \\n[Clang 4.0.1 (tags/RELEASE_401/final)]'"
      ]
     },
     "execution_count": 2,
     "metadata": {},
     "output_type": "execute_result"
    }
   ],
   "source": [
    "sys.version"
   ]
  },
  {
   "cell_type": "markdown",
   "metadata": {},
   "source": [
    "## Position or keyword arguments.\n",
    "\n",
    "The most common type of arguments can be accessed either through their position or as keywords.  Note that Python requires that arguments with a default value follow those that do not."
   ]
  },
  {
   "cell_type": "code",
   "execution_count": 4,
   "metadata": {},
   "outputs": [],
   "source": [
    "def f(pos_or_kw1, pos_or_kw2, pos_or_kw3 = None):\n",
    "    return f\"a1 = {pos_or_kw1}, a2 = {pos_or_kw2}, a3 = {pos_or_kw3}\""
   ]
  },
  {
   "cell_type": "markdown",
   "metadata": {},
   "source": [
    "#### Non-default via position"
   ]
  },
  {
   "cell_type": "code",
   "execution_count": 5,
   "metadata": {},
   "outputs": [
    {
     "data": {
      "text/plain": [
       "'a1 = 1, a2 = 2, a3 = None'"
      ]
     },
     "execution_count": 5,
     "metadata": {},
     "output_type": "execute_result"
    }
   ],
   "source": [
    "f(1, 2)"
   ]
  },
  {
   "cell_type": "markdown",
   "metadata": {},
   "source": [
    "#### Non-default via keyword"
   ]
  },
  {
   "cell_type": "code",
   "execution_count": 6,
   "metadata": {},
   "outputs": [
    {
     "data": {
      "text/plain": [
       "'a1 = 1, a2 = 2, a3 = None'"
      ]
     },
     "execution_count": 6,
     "metadata": {},
     "output_type": "execute_result"
    }
   ],
   "source": [
    "f(pos_or_kw1=1, pos_or_kw2=2)"
   ]
  },
  {
   "cell_type": "markdown",
   "metadata": {},
   "source": [
    "#### keyword arguments can be in any order"
   ]
  },
  {
   "cell_type": "code",
   "execution_count": 7,
   "metadata": {},
   "outputs": [
    {
     "data": {
      "text/plain": [
       "'a1 = 2, a2 = 1, a3 = None'"
      ]
     },
     "execution_count": 7,
     "metadata": {},
     "output_type": "execute_result"
    }
   ],
   "source": [
    "f(pos_or_kw2=1, pos_or_kw1=2)"
   ]
  },
  {
   "cell_type": "markdown",
   "metadata": {},
   "source": [
    "#### Args without defaults are required"
   ]
  },
  {
   "cell_type": "code",
   "execution_count": 8,
   "metadata": {},
   "outputs": [
    {
     "ename": "TypeError",
     "evalue": "f() missing 1 required positional argument: 'pos_or_kw2'",
     "output_type": "error",
     "traceback": [
      "\u001b[0;31m---------------------------------------------------------------------------\u001b[0m",
      "\u001b[0;31mTypeError\u001b[0m                                 Traceback (most recent call last)",
      "\u001b[0;32m<ipython-input-8-281ab0a37d7d>\u001b[0m in \u001b[0;36m<module>\u001b[0;34m\u001b[0m\n\u001b[0;32m----> 1\u001b[0;31m \u001b[0mf\u001b[0m\u001b[0;34m(\u001b[0m\u001b[0;36m1\u001b[0m\u001b[0;34m)\u001b[0m\u001b[0;34m\u001b[0m\u001b[0;34m\u001b[0m\u001b[0m\n\u001b[0m",
      "\u001b[0;31mTypeError\u001b[0m: f() missing 1 required positional argument: 'pos_or_kw2'"
     ]
    }
   ],
   "source": [
    "f(1)"
   ]
  },
  {
   "cell_type": "markdown",
   "metadata": {},
   "source": [
    "#### Default via position"
   ]
  },
  {
   "cell_type": "code",
   "execution_count": 9,
   "metadata": {},
   "outputs": [
    {
     "data": {
      "text/plain": [
       "'a1 = 1, a2 = 2, a3 = 3'"
      ]
     },
     "execution_count": 9,
     "metadata": {},
     "output_type": "execute_result"
    }
   ],
   "source": [
    "f(1, 2, 3)"
   ]
  },
  {
   "cell_type": "markdown",
   "metadata": {},
   "source": [
    "#### Default via keyword"
   ]
  },
  {
   "cell_type": "code",
   "execution_count": 10,
   "metadata": {},
   "outputs": [
    {
     "data": {
      "text/plain": [
       "'a1 = 1, a2 = 2, a3 = 3'"
      ]
     },
     "execution_count": 10,
     "metadata": {},
     "output_type": "execute_result"
    }
   ],
   "source": [
    "f(pos_or_kw1=1, pos_or_kw2=2, pos_or_kw3=3)"
   ]
  },
  {
   "cell_type": "markdown",
   "metadata": {},
   "source": [
    "#### Again keyword arguments can be in any order"
   ]
  },
  {
   "cell_type": "code",
   "execution_count": 11,
   "metadata": {},
   "outputs": [
    {
     "data": {
      "text/plain": [
       "'a1 = 3, a2 = 2, a3 = 1'"
      ]
     },
     "execution_count": 11,
     "metadata": {},
     "output_type": "execute_result"
    }
   ],
   "source": [
    "f(pos_or_kw3=1, pos_or_kw2=2, pos_or_kw1=3)"
   ]
  },
  {
   "cell_type": "markdown",
   "metadata": {},
   "source": [
    "## Varargs\n",
    "\n",
    "We can add a variable number of additional arguments using the `*args` arguments.  The arguments for these additional entries will be stored in a tuple named `args`.  \n",
    "\n",
    "Note that varargs must follow all position or keyword arguments."
   ]
  },
  {
   "cell_type": "code",
   "execution_count": 14,
   "metadata": {},
   "outputs": [],
   "source": [
    "def g(p_kw1, p_kw2, p_kw3 = None, *args):\n",
    "    return f\"a1 = {p_kw1}, a2 = {p_kw2}, a3 = {p_kw3}, star_args = {args}\""
   ]
  },
  {
   "cell_type": "markdown",
   "metadata": {},
   "source": [
    "#### Positions for defaults are preserved.\n",
    "\n",
    "Note that the third position provides a value to `p_kw3` then the remaining arguments get passed to `args`"
   ]
  },
  {
   "cell_type": "code",
   "execution_count": 15,
   "metadata": {},
   "outputs": [
    {
     "data": {
      "text/plain": [
       "'a1 = 1, a2 = 2, a3 = 3, star_args = (4, 5)'"
      ]
     },
     "execution_count": 15,
     "metadata": {},
     "output_type": "execute_result"
    }
   ],
   "source": [
    "g(1, 2, 3, 4, 5)"
   ]
  },
  {
   "cell_type": "markdown",
   "metadata": {},
   "source": [
    "#### `args` is just another name\n",
    "\n",
    "While it is convential to use `args` in `*args`, the choice of name is up to the programmer."
   ]
  },
  {
   "cell_type": "code",
   "execution_count": 16,
   "metadata": {},
   "outputs": [],
   "source": [
    "def g2(*my_args):\n",
    "    return my_args"
   ]
  },
  {
   "cell_type": "code",
   "execution_count": 17,
   "metadata": {},
   "outputs": [
    {
     "data": {
      "text/plain": [
       "(1, 2, 'a', 'b')"
      ]
     },
     "execution_count": 17,
     "metadata": {},
     "output_type": "execute_result"
    }
   ],
   "source": [
    "g2(1, 2, \"a\", \"b\")"
   ]
  },
  {
   "cell_type": "code",
   "execution_count": 18,
   "metadata": {},
   "outputs": [
    {
     "data": {
      "text/plain": [
       "(1, 2, 'a', 'b')"
      ]
     },
     "execution_count": 18,
     "metadata": {},
     "output_type": "execute_result"
    }
   ],
   "source": [
    "t = g2(1, 2, \"a\", \"b\")\n",
    "t"
   ]
  },
  {
   "cell_type": "code",
   "execution_count": 19,
   "metadata": {},
   "outputs": [
    {
     "data": {
      "text/plain": [
       "(1, 2, 'a', 'b')"
      ]
     },
     "execution_count": 19,
     "metadata": {},
     "output_type": "execute_result"
    }
   ],
   "source": [
    "g2(*t)"
   ]
  },
  {
   "cell_type": "markdown",
   "metadata": {},
   "source": [
    "## Keyword-only parameters\n",
    "\n",
    "Any parameters defined after `*args` will be deemed *keyword-only* and can only be accessed through keyword-assignment."
   ]
  },
  {
   "cell_type": "code",
   "execution_count": 20,
   "metadata": {},
   "outputs": [],
   "source": [
    "def h(p_kw1, p_kw2, p_kw3 = None, *args, kw_only = \"> Silas\"):\n",
    "    return f\"a1 = {p_kw1}, a2 = {p_kw2}, a3 = {p_kw3}, star_args = {args}, Iverson {kw_only}\""
   ]
  },
  {
   "cell_type": "markdown",
   "metadata": {},
   "source": [
    "#### Using the default value"
   ]
  },
  {
   "cell_type": "code",
   "execution_count": 21,
   "metadata": {},
   "outputs": [
    {
     "data": {
      "text/plain": [
       "'a1 = 1, a2 = 2, a3 = 3, star_args = (4, 5), Iverson > Silas'"
      ]
     },
     "execution_count": 21,
     "metadata": {},
     "output_type": "execute_result"
    }
   ],
   "source": [
    "h(1, 2, 3, 4, 5)"
   ]
  },
  {
   "cell_type": "markdown",
   "metadata": {},
   "source": [
    "#### Changing the default with keyword-assignment"
   ]
  },
  {
   "cell_type": "code",
   "execution_count": 22,
   "metadata": {},
   "outputs": [
    {
     "data": {
      "text/plain": [
       "'a1 = 1, a2 = 2, a3 = 3, star_args = (4, 5), Iverson != Malone'"
      ]
     },
     "execution_count": 22,
     "metadata": {},
     "output_type": "execute_result"
    }
   ],
   "source": [
    "h(1, 2, 3, 4, 5, kw_only = \"!= Malone\")"
   ]
  },
  {
   "cell_type": "markdown",
   "metadata": {},
   "source": [
    "#### Defining keyword-only parameters without varargs.\n",
    "\n",
    "If you would like to define keyword-only parameters **but no varargs**, insert a `*,` after the last `positional or keyword` parameter."
   ]
  },
  {
   "cell_type": "code",
   "execution_count": 23,
   "metadata": {},
   "outputs": [],
   "source": [
    "def h2(p_kw1, p_kw2, p_kw3 = None, *, kw_only = \"> Silas\"):\n",
    "    return f\"a1 = {p_kw1}, a2 = {p_kw2}, a3 = {p_kw3}, Iverson {kw_only}\""
   ]
  },
  {
   "cell_type": "markdown",
   "metadata": {},
   "source": [
    "#### Using both the default value"
   ]
  },
  {
   "cell_type": "code",
   "execution_count": 24,
   "metadata": {},
   "outputs": [
    {
     "data": {
      "text/plain": [
       "'a1 = 1, a2 = 2, a3 = None, Iverson > Silas'"
      ]
     },
     "execution_count": 24,
     "metadata": {},
     "output_type": "execute_result"
    }
   ],
   "source": [
    "h2(1, 2)"
   ]
  },
  {
   "cell_type": "markdown",
   "metadata": {},
   "source": [
    "#### Keeping the default value for `kw_only`"
   ]
  },
  {
   "cell_type": "code",
   "execution_count": 25,
   "metadata": {},
   "outputs": [
    {
     "data": {
      "text/plain": [
       "'a1 = 1, a2 = 2, a3 = 3, Iverson > Silas'"
      ]
     },
     "execution_count": 25,
     "metadata": {},
     "output_type": "execute_result"
    }
   ],
   "source": [
    "h2(1, 2, 3)"
   ]
  },
  {
   "cell_type": "markdown",
   "metadata": {},
   "source": [
    "#### Can't access `kw_only` via a positional argument."
   ]
  },
  {
   "cell_type": "code",
   "execution_count": 28,
   "metadata": {},
   "outputs": [
    {
     "ename": "TypeError",
     "evalue": "h2() takes from 2 to 3 positional arguments but 4 were given",
     "output_type": "error",
     "traceback": [
      "\u001b[0;31m---------------------------------------------------------------------------\u001b[0m",
      "\u001b[0;31mTypeError\u001b[0m                                 Traceback (most recent call last)",
      "\u001b[0;32m<ipython-input-28-eff528fbfab4>\u001b[0m in \u001b[0;36m<module>\u001b[0;34m\u001b[0m\n\u001b[0;32m----> 1\u001b[0;31m \u001b[0mh2\u001b[0m\u001b[0;34m(\u001b[0m\u001b[0;36m1\u001b[0m\u001b[0;34m,\u001b[0m \u001b[0;36m2\u001b[0m\u001b[0;34m,\u001b[0m \u001b[0;36m3\u001b[0m\u001b[0;34m,\u001b[0m \u001b[0;36m4\u001b[0m\u001b[0;34m)\u001b[0m\u001b[0;34m\u001b[0m\u001b[0;34m\u001b[0m\u001b[0m\n\u001b[0m",
      "\u001b[0;31mTypeError\u001b[0m: h2() takes from 2 to 3 positional arguments but 4 were given"
     ]
    }
   ],
   "source": [
    "h2(1, 2, 3, 4)"
   ]
  },
  {
   "cell_type": "markdown",
   "metadata": {},
   "source": [
    "#### Must use keyword assignment to change `kw_only`"
   ]
  },
  {
   "cell_type": "code",
   "execution_count": 29,
   "metadata": {
    "scrolled": true
   },
   "outputs": [
    {
     "data": {
      "text/plain": [
       "'a1 = 1, a2 = 2, a3 = 3, Iverson < Hooks'"
      ]
     },
     "execution_count": 29,
     "metadata": {},
     "output_type": "execute_result"
    }
   ],
   "source": [
    "h2(1, 2, 3, kw_only=\"< Hooks\")"
   ]
  },
  {
   "cell_type": "markdown",
   "metadata": {},
   "source": [
    "## A variable number of additional keyword arguments\n",
    "\n",
    "Finally, we can use `**kwargs` to gather any number of additional keyword-only arguments.  The resulting values will be stored in a `dict` with keywords as keys and argument values as values.  Again, the `kwargs` name is customary, but can be changed by the programmer."
   ]
  },
  {
   "cell_type": "code",
   "execution_count": 30,
   "metadata": {},
   "outputs": [],
   "source": [
    "def m(p1, p2, *, kw1 = None, **my_kwargs):\n",
    "    return my_kwargs"
   ]
  },
  {
   "cell_type": "code",
   "execution_count": 31,
   "metadata": {},
   "outputs": [
    {
     "data": {
      "text/plain": [
       "{'Iverson': 'Great', 'Bergen': 'likes R'}"
      ]
     },
     "execution_count": 31,
     "metadata": {},
     "output_type": "execute_result"
    }
   ],
   "source": [
    "m(1, 2, Iverson=\"Great\", Bergen=\"likes R\")"
   ]
  },
  {
   "cell_type": "markdown",
   "metadata": {},
   "source": [
    "# Impact on `pipeable` functions\n",
    "\n",
    "When creating `pipeable` functions, we need to make a couple adjustments.\n",
    "\n",
    "1. We **CANNOT** mix `*args` and curried functions, as the function will never complete.\n",
    "2. Consider switching all parameters with default values to keyword-only parameters.\n",
    "3. Use `**kwargs` as a way to allow for variable number of inputs."
   ]
  },
  {
   "cell_type": "code",
   "execution_count": 32,
   "metadata": {},
   "outputs": [
    {
     "name": "stdout",
     "output_type": "stream",
     "text": [
      "Requirement already satisfied: composable in /Users/rk0291db/.pyenv/versions/anaconda3-2020.02/lib/python3.7/site-packages (0.2.5)\r\n",
      "Requirement already satisfied: python-forge<19.0,>=18.6 in /Users/rk0291db/.pyenv/versions/anaconda3-2020.02/lib/python3.7/site-packages (from composable) (18.6.0)\r\n",
      "Requirement already satisfied: toolz<0.12.0,>=0.11.1 in /Users/rk0291db/.pyenv/versions/anaconda3-2020.02/lib/python3.7/site-packages (from composable) (0.11.1)\r\n"
     ]
    }
   ],
   "source": [
    "!pip install composable"
   ]
  },
  {
   "cell_type": "code",
   "execution_count": 33,
   "metadata": {},
   "outputs": [],
   "source": [
    "import pandas as pd\n",
    "from composable import pipeable"
   ]
  },
  {
   "cell_type": "code",
   "execution_count": 34,
   "metadata": {
    "scrolled": true
   },
   "outputs": [
    {
     "data": {
      "text/plain": [
       "0     1000\n",
       "1     1001\n",
       "2     1002\n",
       "3     1003\n",
       "4     1004\n",
       "5     1005\n",
       "6     1006\n",
       "7     1007\n",
       "8     1008\n",
       "9     1009\n",
       "10    1010\n",
       "dtype: object"
      ]
     },
     "execution_count": 34,
     "metadata": {},
     "output_type": "execute_result"
    }
   ],
   "source": [
    "from composable.strict import map\n",
    "c = pd.Series(map(str, range(1000,1011)))\n",
    "c"
   ]
  },
  {
   "cell_type": "code",
   "execution_count": 35,
   "metadata": {},
   "outputs": [
    {
     "name": "stdout",
     "output_type": "stream",
     "text": [
      "Help on function slice in module pandas.core.strings.accessor:\n",
      "\n",
      "slice(self, start=None, stop=None, step=None)\n",
      "    Slice substrings from each element in the Series or Index.\n",
      "    \n",
      "    Parameters\n",
      "    ----------\n",
      "    start : int, optional\n",
      "        Start position for slice operation.\n",
      "    stop : int, optional\n",
      "        Stop position for slice operation.\n",
      "    step : int, optional\n",
      "        Step size for slice operation.\n",
      "    \n",
      "    Returns\n",
      "    -------\n",
      "    Series or Index of object\n",
      "        Series or Index from sliced substring from original string object.\n",
      "    \n",
      "    See Also\n",
      "    --------\n",
      "    Series.str.slice_replace : Replace a slice with a string.\n",
      "    Series.str.get : Return element at position.\n",
      "        Equivalent to `Series.str.slice(start=i, stop=i+1)` with `i`\n",
      "        being the position.\n",
      "    \n",
      "    Examples\n",
      "    --------\n",
      "    >>> s = pd.Series([\"koala\", \"fox\", \"chameleon\"])\n",
      "    >>> s\n",
      "    0        koala\n",
      "    1          fox\n",
      "    2    chameleon\n",
      "    dtype: object\n",
      "    \n",
      "    >>> s.str.slice(start=1)\n",
      "    0        oala\n",
      "    1          ox\n",
      "    2    hameleon\n",
      "    dtype: object\n",
      "    \n",
      "    >>> s.str.slice(start=-1)\n",
      "    0           a\n",
      "    1           x\n",
      "    2           n\n",
      "    dtype: object\n",
      "    \n",
      "    >>> s.str.slice(stop=2)\n",
      "    0    ko\n",
      "    1    fo\n",
      "    2    ch\n",
      "    dtype: object\n",
      "    \n",
      "    >>> s.str.slice(step=2)\n",
      "    0      kaa\n",
      "    1       fx\n",
      "    2    caeen\n",
      "    dtype: object\n",
      "    \n",
      "    >>> s.str.slice(start=0, stop=5, step=3)\n",
      "    0    kl\n",
      "    1     f\n",
      "    2    cm\n",
      "    dtype: object\n",
      "    \n",
      "    Equivalent behaviour to:\n",
      "    \n",
      "    >>> s.str[0:5:3]\n",
      "    0    kl\n",
      "    1     f\n",
      "    2    cm\n",
      "    dtype: object\n",
      "\n"
     ]
    }
   ],
   "source": [
    "help(pd.Series.str.slice)"
   ]
  },
  {
   "cell_type": "code",
   "execution_count": 36,
   "metadata": {},
   "outputs": [
    {
     "data": {
      "text/plain": [
       "0     00\n",
       "1     00\n",
       "2     00\n",
       "3     00\n",
       "4     00\n",
       "5     00\n",
       "6     00\n",
       "7     00\n",
       "8     00\n",
       "9     00\n",
       "10    01\n",
       "dtype: object"
      ]
     },
     "execution_count": 36,
     "metadata": {},
     "output_type": "execute_result"
    }
   ],
   "source": [
    "c.str.slice(1, 3)"
   ]
  },
  {
   "cell_type": "code",
   "execution_count": 37,
   "metadata": {},
   "outputs": [],
   "source": [
    "@pipeable\n",
    "def slice(col, start=None, stop=None, step=None):\n",
    "    return col.str.slice( start = start, stop = stop, step = step)"
   ]
  },
  {
   "cell_type": "code",
   "execution_count": 38,
   "metadata": {},
   "outputs": [
    {
     "ename": "AttributeError",
     "evalue": "'int' object has no attribute 'str'",
     "output_type": "error",
     "traceback": [
      "\u001b[0;31m---------------------------------------------------------------------------\u001b[0m",
      "\u001b[0;31mAttributeError\u001b[0m                            Traceback (most recent call last)",
      "\u001b[0;32m<ipython-input-38-5f686a0f44da>\u001b[0m in \u001b[0;36m<module>\u001b[0;34m\u001b[0m\n\u001b[0;32m----> 1\u001b[0;31m \u001b[0mc\u001b[0m \u001b[0;34m>>\u001b[0m \u001b[0mslice\u001b[0m\u001b[0;34m(\u001b[0m\u001b[0;36m1\u001b[0m\u001b[0;34m,\u001b[0m \u001b[0;36m3\u001b[0m\u001b[0;34m)\u001b[0m \u001b[0;31m# first argument passed to `col` by position.\u001b[0m\u001b[0;34m\u001b[0m\u001b[0;34m\u001b[0m\u001b[0m\n\u001b[0m",
      "\u001b[0;32m~/.pyenv/versions/anaconda3-2020.02/lib/python3.7/site-packages/toolz/functoolz.py\u001b[0m in \u001b[0;36m__call__\u001b[0;34m(self, *args, **kwargs)\u001b[0m\n\u001b[1;32m    301\u001b[0m     \u001b[0;32mdef\u001b[0m \u001b[0m__call__\u001b[0m\u001b[0;34m(\u001b[0m\u001b[0mself\u001b[0m\u001b[0;34m,\u001b[0m \u001b[0;34m*\u001b[0m\u001b[0margs\u001b[0m\u001b[0;34m,\u001b[0m \u001b[0;34m**\u001b[0m\u001b[0mkwargs\u001b[0m\u001b[0;34m)\u001b[0m\u001b[0;34m:\u001b[0m\u001b[0;34m\u001b[0m\u001b[0;34m\u001b[0m\u001b[0m\n\u001b[1;32m    302\u001b[0m         \u001b[0;32mtry\u001b[0m\u001b[0;34m:\u001b[0m\u001b[0;34m\u001b[0m\u001b[0;34m\u001b[0m\u001b[0m\n\u001b[0;32m--> 303\u001b[0;31m             \u001b[0;32mreturn\u001b[0m \u001b[0mself\u001b[0m\u001b[0;34m.\u001b[0m\u001b[0m_partial\u001b[0m\u001b[0;34m(\u001b[0m\u001b[0;34m*\u001b[0m\u001b[0margs\u001b[0m\u001b[0;34m,\u001b[0m \u001b[0;34m**\u001b[0m\u001b[0mkwargs\u001b[0m\u001b[0;34m)\u001b[0m\u001b[0;34m\u001b[0m\u001b[0;34m\u001b[0m\u001b[0m\n\u001b[0m\u001b[1;32m    304\u001b[0m         \u001b[0;32mexcept\u001b[0m \u001b[0mTypeError\u001b[0m \u001b[0;32mas\u001b[0m \u001b[0mexc\u001b[0m\u001b[0;34m:\u001b[0m\u001b[0;34m\u001b[0m\u001b[0;34m\u001b[0m\u001b[0m\n\u001b[1;32m    305\u001b[0m             \u001b[0;32mif\u001b[0m \u001b[0mself\u001b[0m\u001b[0;34m.\u001b[0m\u001b[0m_should_curry\u001b[0m\u001b[0;34m(\u001b[0m\u001b[0margs\u001b[0m\u001b[0;34m,\u001b[0m \u001b[0mkwargs\u001b[0m\u001b[0;34m,\u001b[0m \u001b[0mexc\u001b[0m\u001b[0;34m)\u001b[0m\u001b[0;34m:\u001b[0m\u001b[0;34m\u001b[0m\u001b[0;34m\u001b[0m\u001b[0m\n",
      "\u001b[0;32m<ipython-input-37-9ba85a456395>\u001b[0m in \u001b[0;36mslice\u001b[0;34m(col, start, stop, step)\u001b[0m\n\u001b[1;32m      1\u001b[0m \u001b[0;34m@\u001b[0m\u001b[0mpipeable\u001b[0m\u001b[0;34m\u001b[0m\u001b[0;34m\u001b[0m\u001b[0m\n\u001b[1;32m      2\u001b[0m \u001b[0;32mdef\u001b[0m \u001b[0mslice\u001b[0m\u001b[0;34m(\u001b[0m\u001b[0mcol\u001b[0m\u001b[0;34m,\u001b[0m \u001b[0mstart\u001b[0m\u001b[0;34m=\u001b[0m\u001b[0;32mNone\u001b[0m\u001b[0;34m,\u001b[0m \u001b[0mstop\u001b[0m\u001b[0;34m=\u001b[0m\u001b[0;32mNone\u001b[0m\u001b[0;34m,\u001b[0m \u001b[0mstep\u001b[0m\u001b[0;34m=\u001b[0m\u001b[0;32mNone\u001b[0m\u001b[0;34m)\u001b[0m\u001b[0;34m:\u001b[0m\u001b[0;34m\u001b[0m\u001b[0;34m\u001b[0m\u001b[0m\n\u001b[0;32m----> 3\u001b[0;31m     \u001b[0;32mreturn\u001b[0m \u001b[0mcol\u001b[0m\u001b[0;34m.\u001b[0m\u001b[0mstr\u001b[0m\u001b[0;34m.\u001b[0m\u001b[0mslice\u001b[0m\u001b[0;34m(\u001b[0m \u001b[0mstart\u001b[0m \u001b[0;34m=\u001b[0m \u001b[0mstart\u001b[0m\u001b[0;34m,\u001b[0m \u001b[0mstop\u001b[0m \u001b[0;34m=\u001b[0m \u001b[0mstop\u001b[0m\u001b[0;34m,\u001b[0m \u001b[0mstep\u001b[0m \u001b[0;34m=\u001b[0m \u001b[0mstep\u001b[0m\u001b[0;34m)\u001b[0m\u001b[0;34m\u001b[0m\u001b[0;34m\u001b[0m\u001b[0m\n\u001b[0m",
      "\u001b[0;31mAttributeError\u001b[0m: 'int' object has no attribute 'str'"
     ]
    }
   ],
   "source": [
    "c >> slice(1, 3) # first argument passed to `col` by position."
   ]
  },
  {
   "cell_type": "code",
   "execution_count": 45,
   "metadata": {},
   "outputs": [],
   "source": [
    "@pipeable\n",
    "def slice(col, *, start=None, stop=None, step=None):\n",
    "    return col.str.slice(start, stop, step)"
   ]
  },
  {
   "cell_type": "code",
   "execution_count": 46,
   "metadata": {},
   "outputs": [
    {
     "data": {
      "text/plain": [
       "0     00\n",
       "1     00\n",
       "2     00\n",
       "3     00\n",
       "4     00\n",
       "5     00\n",
       "6     00\n",
       "7     00\n",
       "8     00\n",
       "9     00\n",
       "10    01\n",
       "dtype: object"
      ]
     },
     "execution_count": 46,
     "metadata": {},
     "output_type": "execute_result"
    }
   ],
   "source": [
    "c >> slice(start = 1, stop = 3) # second and third digits"
   ]
  },
  {
   "cell_type": "code",
   "execution_count": 41,
   "metadata": {},
   "outputs": [
    {
     "name": "stdout",
     "output_type": "stream",
     "text": [
      "Help on function replace in module pandas.core.strings.accessor:\n",
      "\n",
      "replace(self, pat, repl, n=-1, case=None, flags=0, regex=None)\n",
      "    Replace each occurrence of pattern/regex in the Series/Index.\n",
      "    \n",
      "    Equivalent to :meth:`str.replace` or :func:`re.sub`, depending on\n",
      "    the regex value.\n",
      "    \n",
      "    Parameters\n",
      "    ----------\n",
      "    pat : str or compiled regex\n",
      "        String can be a character sequence or regular expression.\n",
      "    repl : str or callable\n",
      "        Replacement string or a callable. The callable is passed the regex\n",
      "        match object and must return a replacement string to be used.\n",
      "        See :func:`re.sub`.\n",
      "    n : int, default -1 (all)\n",
      "        Number of replacements to make from start.\n",
      "    case : bool, default None\n",
      "        Determines if replace is case sensitive:\n",
      "    \n",
      "        - If True, case sensitive (the default if `pat` is a string)\n",
      "        - Set to False for case insensitive\n",
      "        - Cannot be set if `pat` is a compiled regex.\n",
      "    \n",
      "    flags : int, default 0 (no flags)\n",
      "        Regex module flags, e.g. re.IGNORECASE. Cannot be set if `pat` is a compiled\n",
      "        regex.\n",
      "    regex : bool, default True\n",
      "        Determines if assumes the passed-in pattern is a regular expression:\n",
      "    \n",
      "        - If True, assumes the passed-in pattern is a regular expression.\n",
      "        - If False, treats the pattern as a literal string\n",
      "        - Cannot be set to False if `pat` is a compiled regex or `repl` is\n",
      "          a callable.\n",
      "    \n",
      "        .. versionadded:: 0.23.0\n",
      "    \n",
      "    Returns\n",
      "    -------\n",
      "    Series or Index of object\n",
      "        A copy of the object with all matching occurrences of `pat` replaced by\n",
      "        `repl`.\n",
      "    \n",
      "    Raises\n",
      "    ------\n",
      "    ValueError\n",
      "        * if `regex` is False and `repl` is a callable or `pat` is a compiled\n",
      "          regex\n",
      "        * if `pat` is a compiled regex and `case` or `flags` is set\n",
      "    \n",
      "    Notes\n",
      "    -----\n",
      "    When `pat` is a compiled regex, all flags should be included in the\n",
      "    compiled regex. Use of `case`, `flags`, or `regex=False` with a compiled\n",
      "    regex will raise an error.\n",
      "    \n",
      "    Examples\n",
      "    --------\n",
      "    When `pat` is a string and `regex` is True (the default), the given `pat`\n",
      "    is compiled as a regex. When `repl` is a string, it replaces matching\n",
      "    regex patterns as with :meth:`re.sub`. NaN value(s) in the Series are\n",
      "    left as is:\n",
      "    \n",
      "    >>> pd.Series(['foo', 'fuz', np.nan]).str.replace('f.', 'ba', regex=True)\n",
      "    0    bao\n",
      "    1    baz\n",
      "    2    NaN\n",
      "    dtype: object\n",
      "    \n",
      "    When `pat` is a string and `regex` is False, every `pat` is replaced with\n",
      "    `repl` as with :meth:`str.replace`:\n",
      "    \n",
      "    >>> pd.Series(['f.o', 'fuz', np.nan]).str.replace('f.', 'ba', regex=False)\n",
      "    0    bao\n",
      "    1    fuz\n",
      "    2    NaN\n",
      "    dtype: object\n",
      "    \n",
      "    When `repl` is a callable, it is called on every `pat` using\n",
      "    :func:`re.sub`. The callable should expect one positional argument\n",
      "    (a regex object) and return a string.\n",
      "    \n",
      "    To get the idea:\n",
      "    \n",
      "    >>> pd.Series(['foo', 'fuz', np.nan]).str.replace('f', repr)\n",
      "    0    <re.Match object; span=(0, 1), match='f'>oo\n",
      "    1    <re.Match object; span=(0, 1), match='f'>uz\n",
      "    2                                            NaN\n",
      "    dtype: object\n",
      "    \n",
      "    Reverse every lowercase alphabetic word:\n",
      "    \n",
      "    >>> repl = lambda m: m.group(0)[::-1]\n",
      "    >>> pd.Series(['foo 123', 'bar baz', np.nan]).str.replace(r'[a-z]+', repl)\n",
      "    0    oof 123\n",
      "    1    rab zab\n",
      "    2        NaN\n",
      "    dtype: object\n",
      "    \n",
      "    Using regex groups (extract second group and swap case):\n",
      "    \n",
      "    >>> pat = r\"(?P<one>\\w+) (?P<two>\\w+) (?P<three>\\w+)\"\n",
      "    >>> repl = lambda m: m.group('two').swapcase()\n",
      "    >>> pd.Series(['One Two Three', 'Foo Bar Baz']).str.replace(pat, repl)\n",
      "    0    tWO\n",
      "    1    bAR\n",
      "    dtype: object\n",
      "    \n",
      "    Using a compiled regex with flags\n",
      "    \n",
      "    >>> import re\n",
      "    >>> regex_pat = re.compile(r'FUZ', flags=re.IGNORECASE)\n",
      "    >>> pd.Series(['foo', 'fuz', np.nan]).str.replace(regex_pat, 'bar')\n",
      "    0    foo\n",
      "    1    bar\n",
      "    2    NaN\n",
      "    dtype: object\n",
      "\n"
     ]
    }
   ],
   "source": [
    "help(pd.Series.str.replace)"
   ]
  },
  {
   "cell_type": "code",
   "execution_count": 42,
   "metadata": {},
   "outputs": [],
   "source": [
    "import re\n",
    "pattern = \"&&\""
   ]
  },
  {
   "cell_type": "code",
   "execution_count": 43,
   "metadata": {},
   "outputs": [],
   "source": [
    "@pipeable\n",
    "def replace(pat, repl, col, *, n=-1, case=None, flags=0, regex=True):\n",
    "    return col.str.replace(pat, repl, case=case, flags=flags, regex=regex)"
   ]
  },
  {
   "cell_type": "code",
   "execution_count": 44,
   "metadata": {},
   "outputs": [
    {
     "data": {
      "text/plain": [
       "0     1999\n",
       "1     1991\n",
       "2     1992\n",
       "3     1993\n",
       "4     1994\n",
       "5     1995\n",
       "6     1996\n",
       "7     1997\n",
       "8     1998\n",
       "9     1999\n",
       "10    1919\n",
       "dtype: object"
      ]
     },
     "execution_count": 44,
     "metadata": {},
     "output_type": "execute_result"
    }
   ],
   "source": [
    "c >> replace ('0', '9')"
   ]
  },
  {
   "cell_type": "code",
   "execution_count": null,
   "metadata": {},
   "outputs": [],
   "source": []
  }
 ],
 "metadata": {
  "kernelspec": {
   "display_name": "Python 3",
   "language": "python",
   "name": "python3"
  },
  "language_info": {
   "codemirror_mode": {
    "name": "ipython",
    "version": 3
   },
   "file_extension": ".py",
   "mimetype": "text/x-python",
   "name": "python",
   "nbconvert_exporter": "python",
   "pygments_lexer": "ipython3",
   "version": "3.7.6"
  }
 },
 "nbformat": 4,
 "nbformat_minor": 4
}
