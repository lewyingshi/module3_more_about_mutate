{
 "cells": [
  {
   "cell_type": "markdown",
   "metadata": {},
   "source": [
    "# Advanced Applications of Mutate\n",
    "\n",
    "## DRY and many transformations"
   ]
  },
  {
   "cell_type": "code",
   "execution_count": 2,
   "metadata": {},
   "outputs": [],
   "source": [
    "import pandas as pd\n",
    "from dfply import *\n",
    "import matplotlib.pylab as plt\n",
    "%matplotlib inline"
   ]
  },
  {
   "cell_type": "markdown",
   "metadata": {},
   "source": [
    "## Data set\n",
    "\n",
    "We will be using two of the data sets provided by the Museam of Modern Art (MoMA) in this lecture.  Make sure that you have downloaded each repository.  [Download Instructions](./get_MOMA_data.ipynb)"
   ]
  },
  {
   "cell_type": "markdown",
   "metadata": {},
   "source": [
    "#### MoMA Exhibitions"
   ]
  },
  {
   "cell_type": "code",
   "execution_count": 3,
   "metadata": {
    "scrolled": true
   },
   "outputs": [
    {
     "data": {
      "text/html": [
       "<div>\n",
       "<style scoped>\n",
       "    .dataframe tbody tr th:only-of-type {\n",
       "        vertical-align: middle;\n",
       "    }\n",
       "\n",
       "    .dataframe tbody tr th {\n",
       "        vertical-align: top;\n",
       "    }\n",
       "\n",
       "    .dataframe thead th {\n",
       "        text-align: right;\n",
       "    }\n",
       "</style>\n",
       "<table border=\"1\" class=\"dataframe\">\n",
       "  <thead>\n",
       "    <tr style=\"text-align: right;\">\n",
       "      <th></th>\n",
       "      <th>ExhibitionID</th>\n",
       "      <th>ExhibitionNumber</th>\n",
       "      <th>ExhibitionTitle</th>\n",
       "      <th>ExhibitionCitationDate</th>\n",
       "      <th>ExhibitionBeginDate</th>\n",
       "      <th>ExhibitionEndDate</th>\n",
       "      <th>ExhibitionSortOrder</th>\n",
       "      <th>ExhibitionURL</th>\n",
       "      <th>ExhibitionRole</th>\n",
       "      <th>ExhibitionRoleinPressRelease</th>\n",
       "      <th>...</th>\n",
       "      <th>Institution</th>\n",
       "      <th>Nationality</th>\n",
       "      <th>ConstituentBeginDate</th>\n",
       "      <th>ConstituentEndDate</th>\n",
       "      <th>ArtistBio</th>\n",
       "      <th>Gender</th>\n",
       "      <th>VIAFID</th>\n",
       "      <th>WikidataID</th>\n",
       "      <th>ULANID</th>\n",
       "      <th>ConstituentURL</th>\n",
       "    </tr>\n",
       "  </thead>\n",
       "  <tbody>\n",
       "    <tr>\n",
       "      <th>0</th>\n",
       "      <td>2557.0</td>\n",
       "      <td>1</td>\n",
       "      <td>Cézanne, Gauguin, Seurat, Van Gogh</td>\n",
       "      <td>[MoMA Exh. #1, November 7-December 7, 1929]</td>\n",
       "      <td>1929-11-07</td>\n",
       "      <td>1929-12-07</td>\n",
       "      <td>1.0</td>\n",
       "      <td>moma.org/calendar/exhibitions/1767</td>\n",
       "      <td>Curator</td>\n",
       "      <td>Director</td>\n",
       "      <td>...</td>\n",
       "      <td>NaN</td>\n",
       "      <td>American</td>\n",
       "      <td>1902</td>\n",
       "      <td>1981</td>\n",
       "      <td>American, 19021981</td>\n",
       "      <td>Male</td>\n",
       "      <td>109252853.0</td>\n",
       "      <td>Q711362</td>\n",
       "      <td>500241556.0</td>\n",
       "      <td>moma.org/artists/9168</td>\n",
       "    </tr>\n",
       "    <tr>\n",
       "      <th>1</th>\n",
       "      <td>2557.0</td>\n",
       "      <td>1</td>\n",
       "      <td>Cézanne, Gauguin, Seurat, Van Gogh</td>\n",
       "      <td>[MoMA Exh. #1, November 7-December 7, 1929]</td>\n",
       "      <td>1929-11-07</td>\n",
       "      <td>1929-12-07</td>\n",
       "      <td>1.0</td>\n",
       "      <td>moma.org/calendar/exhibitions/1767</td>\n",
       "      <td>Artist</td>\n",
       "      <td>Artist</td>\n",
       "      <td>...</td>\n",
       "      <td>NaN</td>\n",
       "      <td>French</td>\n",
       "      <td>1839</td>\n",
       "      <td>1906</td>\n",
       "      <td>French, 18391906</td>\n",
       "      <td>Male</td>\n",
       "      <td>39374836.0</td>\n",
       "      <td>Q35548</td>\n",
       "      <td>500004793.0</td>\n",
       "      <td>moma.org/artists/1053</td>\n",
       "    </tr>\n",
       "  </tbody>\n",
       "</table>\n",
       "<p>2 rows × 28 columns</p>\n",
       "</div>"
      ],
      "text/plain": [
       "   ExhibitionID ExhibitionNumber                     ExhibitionTitle  \\\n",
       "0        2557.0                1  Cézanne, Gauguin, Seurat, Van Gogh   \n",
       "1        2557.0                1  Cézanne, Gauguin, Seurat, Van Gogh   \n",
       "\n",
       "                        ExhibitionCitationDate ExhibitionBeginDate  \\\n",
       "0  [MoMA Exh. #1, November 7-December 7, 1929]          1929-11-07   \n",
       "1  [MoMA Exh. #1, November 7-December 7, 1929]          1929-11-07   \n",
       "\n",
       "  ExhibitionEndDate  ExhibitionSortOrder                       ExhibitionURL  \\\n",
       "0        1929-12-07                  1.0  moma.org/calendar/exhibitions/1767   \n",
       "1        1929-12-07                  1.0  moma.org/calendar/exhibitions/1767   \n",
       "\n",
       "  ExhibitionRole ExhibitionRoleinPressRelease  ...  Institution Nationality  \\\n",
       "0        Curator                     Director  ...          NaN    American   \n",
       "1         Artist                       Artist  ...          NaN      French   \n",
       "\n",
       "  ConstituentBeginDate ConstituentEndDate            ArtistBio Gender  \\\n",
       "0                 1902               1981  American, 19021981   Male   \n",
       "1                 1839               1906    French, 18391906   Male   \n",
       "\n",
       "        VIAFID WikidataID       ULANID         ConstituentURL  \n",
       "0  109252853.0    Q711362  500241556.0  moma.org/artists/9168  \n",
       "1   39374836.0     Q35548  500004793.0  moma.org/artists/1053  \n",
       "\n",
       "[2 rows x 28 columns]"
      ]
     },
     "execution_count": 3,
     "metadata": {},
     "output_type": "execute_result"
    }
   ],
   "source": [
    "dat_cols = ['ExhibitionBeginDate', 'ExhibitionEndDate', 'ConstituentBeginDate' ,'ConstituentEndDate']\n",
    "exhibitions = pd.read_csv('./data/MoMAExhibitions1929to1989.csv', \n",
    "                          encoding=\"ISO-8859-1\",\n",
    "                          parse_dates=dat_cols)\n",
    "exhibitions.head(2)"
   ]
  },
  {
   "cell_type": "markdown",
   "metadata": {},
   "source": [
    "## The DRY principle\n",
    "\n",
    "* DRY == *D*on't *R*epeat *Y*ourself\n",
    "* Be sure to\n",
    "    * Look for repeated patterns\n",
    "    * Abstract the patterns"
   ]
  },
  {
   "cell_type": "markdown",
   "metadata": {},
   "source": [
    "#### Example - Creating indicator columns"
   ]
  },
  {
   "cell_type": "code",
   "execution_count": 4,
   "metadata": {},
   "outputs": [
    {
     "data": {
      "text/html": [
       "<div>\n",
       "<style scoped>\n",
       "    .dataframe tbody tr th:only-of-type {\n",
       "        vertical-align: middle;\n",
       "    }\n",
       "\n",
       "    .dataframe tbody tr th {\n",
       "        vertical-align: top;\n",
       "    }\n",
       "\n",
       "    .dataframe thead th {\n",
       "        text-align: right;\n",
       "    }\n",
       "</style>\n",
       "<table border=\"1\" class=\"dataframe\">\n",
       "  <thead>\n",
       "    <tr style=\"text-align: right;\">\n",
       "      <th></th>\n",
       "      <th>Nationality</th>\n",
       "      <th>American</th>\n",
       "    </tr>\n",
       "  </thead>\n",
       "  <tbody>\n",
       "    <tr>\n",
       "      <th>0</th>\n",
       "      <td>American</td>\n",
       "      <td>1</td>\n",
       "    </tr>\n",
       "    <tr>\n",
       "      <th>1</th>\n",
       "      <td>French</td>\n",
       "      <td>0</td>\n",
       "    </tr>\n",
       "    <tr>\n",
       "      <th>2</th>\n",
       "      <td>French</td>\n",
       "      <td>0</td>\n",
       "    </tr>\n",
       "    <tr>\n",
       "      <th>3</th>\n",
       "      <td>Dutch</td>\n",
       "      <td>0</td>\n",
       "    </tr>\n",
       "    <tr>\n",
       "      <th>4</th>\n",
       "      <td>French</td>\n",
       "      <td>0</td>\n",
       "    </tr>\n",
       "    <tr>\n",
       "      <th>...</th>\n",
       "      <td>...</td>\n",
       "      <td>...</td>\n",
       "    </tr>\n",
       "    <tr>\n",
       "      <th>34553</th>\n",
       "      <td>Japanese</td>\n",
       "      <td>0</td>\n",
       "    </tr>\n",
       "    <tr>\n",
       "      <th>34554</th>\n",
       "      <td>Japanese</td>\n",
       "      <td>0</td>\n",
       "    </tr>\n",
       "    <tr>\n",
       "      <th>34555</th>\n",
       "      <td>Japanese</td>\n",
       "      <td>0</td>\n",
       "    </tr>\n",
       "    <tr>\n",
       "      <th>34556</th>\n",
       "      <td>Japanese</td>\n",
       "      <td>0</td>\n",
       "    </tr>\n",
       "    <tr>\n",
       "      <th>34557</th>\n",
       "      <td>NaN</td>\n",
       "      <td>0</td>\n",
       "    </tr>\n",
       "  </tbody>\n",
       "</table>\n",
       "<p>34558 rows × 2 columns</p>\n",
       "</div>"
      ],
      "text/plain": [
       "      Nationality  American\n",
       "0        American         1\n",
       "1          French         0\n",
       "2          French         0\n",
       "3           Dutch         0\n",
       "4          French         0\n",
       "...           ...       ...\n",
       "34553    Japanese         0\n",
       "34554    Japanese         0\n",
       "34555    Japanese         0\n",
       "34556    Japanese         0\n",
       "34557         NaN         0\n",
       "\n",
       "[34558 rows x 2 columns]"
      ]
     },
     "execution_count": 4,
     "metadata": {},
     "output_type": "execute_result"
    }
   ],
   "source": [
    "from collections import defaultdict\n",
    "from composable import pipeable\n",
    "\n",
    "make_indicator = pipeable(lambda lbl, val: 1 if lbl == val else 0)\n",
    "\n",
    "(exhibitions\n",
    " >> select(X.Nationality)\n",
    " >> mutate(American = X.Nationality.map(make_indicator('American')))\n",
    ") "
   ]
  },
  {
   "cell_type": "markdown",
   "metadata": {},
   "source": [
    "## A WET transformation\n",
    "\n",
    "This solution is WET, not DRY, as all 7 of the expressions in mutate are very similar ... if only here was a way to perform these similar expressions all at once ..."
   ]
  },
  {
   "cell_type": "code",
   "execution_count": 5,
   "metadata": {},
   "outputs": [
    {
     "data": {
      "text/html": [
       "<div>\n",
       "<style scoped>\n",
       "    .dataframe tbody tr th:only-of-type {\n",
       "        vertical-align: middle;\n",
       "    }\n",
       "\n",
       "    .dataframe tbody tr th {\n",
       "        vertical-align: top;\n",
       "    }\n",
       "\n",
       "    .dataframe thead th {\n",
       "        text-align: right;\n",
       "    }\n",
       "</style>\n",
       "<table border=\"1\" class=\"dataframe\">\n",
       "  <thead>\n",
       "    <tr style=\"text-align: right;\">\n",
       "      <th></th>\n",
       "      <th>ExhibitionRole</th>\n",
       "      <th>Curator</th>\n",
       "      <th>Artist</th>\n",
       "      <th>Arranger</th>\n",
       "      <th>Installer</th>\n",
       "      <th>CompetitionJudge</th>\n",
       "      <th>Designer</th>\n",
       "      <th>Preparer</th>\n",
       "    </tr>\n",
       "  </thead>\n",
       "  <tbody>\n",
       "    <tr>\n",
       "      <th>0</th>\n",
       "      <td>Curator</td>\n",
       "      <td>1</td>\n",
       "      <td>0</td>\n",
       "      <td>0</td>\n",
       "      <td>0</td>\n",
       "      <td>0</td>\n",
       "      <td>0</td>\n",
       "      <td>0</td>\n",
       "    </tr>\n",
       "    <tr>\n",
       "      <th>1</th>\n",
       "      <td>Artist</td>\n",
       "      <td>0</td>\n",
       "      <td>1</td>\n",
       "      <td>0</td>\n",
       "      <td>0</td>\n",
       "      <td>0</td>\n",
       "      <td>0</td>\n",
       "      <td>0</td>\n",
       "    </tr>\n",
       "    <tr>\n",
       "      <th>2</th>\n",
       "      <td>Artist</td>\n",
       "      <td>0</td>\n",
       "      <td>1</td>\n",
       "      <td>0</td>\n",
       "      <td>0</td>\n",
       "      <td>0</td>\n",
       "      <td>0</td>\n",
       "      <td>0</td>\n",
       "    </tr>\n",
       "    <tr>\n",
       "      <th>3</th>\n",
       "      <td>Artist</td>\n",
       "      <td>0</td>\n",
       "      <td>1</td>\n",
       "      <td>0</td>\n",
       "      <td>0</td>\n",
       "      <td>0</td>\n",
       "      <td>0</td>\n",
       "      <td>0</td>\n",
       "    </tr>\n",
       "    <tr>\n",
       "      <th>4</th>\n",
       "      <td>Artist</td>\n",
       "      <td>0</td>\n",
       "      <td>1</td>\n",
       "      <td>0</td>\n",
       "      <td>0</td>\n",
       "      <td>0</td>\n",
       "      <td>0</td>\n",
       "      <td>0</td>\n",
       "    </tr>\n",
       "  </tbody>\n",
       "</table>\n",
       "</div>"
      ],
      "text/plain": [
       "  ExhibitionRole  Curator  Artist  Arranger  Installer  CompetitionJudge  \\\n",
       "0        Curator        1       0         0          0                 0   \n",
       "1         Artist        0       1         0          0                 0   \n",
       "2         Artist        0       1         0          0                 0   \n",
       "3         Artist        0       1         0          0                 0   \n",
       "4         Artist        0       1         0          0                 0   \n",
       "\n",
       "   Designer  Preparer  \n",
       "0         0         0  \n",
       "1         0         0  \n",
       "2         0         0  \n",
       "3         0         0  \n",
       "4         0         0  "
      ]
     },
     "execution_count": 5,
     "metadata": {},
     "output_type": "execute_result"
    }
   ],
   "source": [
    "(exhibitions\n",
    " >> select(X.ExhibitionRole)\n",
    " >> mutate(Curator = X.ExhibitionRole.map(make_indicator('Curator')),\n",
    "           Artist = X.ExhibitionRole.map(make_indicator('Artist')),\n",
    "           Arranger = X.ExhibitionRole.map(make_indicator('Arranger')),\n",
    "           Installer = X.ExhibitionRole.map(make_indicator('Installer')),\n",
    "           CompetitionJudge = X.ExhibitionRole.map(make_indicator('Competition Judge')),\n",
    "           Designer = X.ExhibitionRole.map(make_indicator('Designer')),\n",
    "           Preparer = X.ExhibitionRole.map(make_indicator('Prepare')))\n",
    " >> head(5)\n",
    ")\n",
    "                                                    "
   ]
  },
  {
   "cell_type": "markdown",
   "metadata": {},
   "source": [
    "## Review - The `**` operators\n",
    "\n",
    "Python functions use the `**` operator to \n",
    "\n",
    "1. **Pack** allow the capture of additional keyword arguments in function definitions.\n",
    "2. **Unpack** unpack a `dict` of keyword arguments in function calls.\n",
    "\n",
    "Note that these two actions are inverse operations."
   ]
  },
  {
   "cell_type": "markdown",
   "metadata": {},
   "source": [
    "#### Defining functions that capturing additional keyword arguments"
   ]
  },
  {
   "cell_type": "code",
   "execution_count": 6,
   "metadata": {},
   "outputs": [],
   "source": [
    "def f(a, b = None, **kwargs):\n",
    "    return f\"a = {a}, b = {b}, added kw = {kwargs}\""
   ]
  },
  {
   "cell_type": "code",
   "execution_count": 7,
   "metadata": {},
   "outputs": [
    {
     "data": {
      "text/plain": [
       "'a = 2, b = None, added kw = {}'"
      ]
     },
     "execution_count": 7,
     "metadata": {},
     "output_type": "execute_result"
    }
   ],
   "source": [
    "f(2) #kwargs is empty by default."
   ]
  },
  {
   "cell_type": "code",
   "execution_count": 8,
   "metadata": {},
   "outputs": [
    {
     "data": {
      "text/plain": [
       "\"a = 2, b = None, added kw = {'Bob': 'Tall', 'Alice': 'Not tall'}\""
      ]
     },
     "execution_count": 8,
     "metadata": {},
     "output_type": "execute_result"
    }
   ],
   "source": [
    "# kwargs contains all extra kwargs when present.\n",
    "f(2, Bob = \"Tall\", Alice = \"Not tall\") "
   ]
  },
  {
   "cell_type": "markdown",
   "metadata": {},
   "source": [
    "#### Unpacking a `dict` of kwargs"
   ]
  },
  {
   "cell_type": "code",
   "execution_count": 9,
   "metadata": {},
   "outputs": [
    {
     "data": {
      "text/plain": [
       "\"a = 1, b = None, added kw = {'Iverson': 'Python', 'Bergen': 'R', 'Malone': 'Excel'}\""
      ]
     },
     "execution_count": 9,
     "metadata": {},
     "output_type": "execute_result"
    }
   ],
   "source": [
    "f(1, **{'Iverson':'Python', 'Bergen':'R', 'Malone':'Excel'})"
   ]
  },
  {
   "cell_type": "markdown",
   "metadata": {},
   "source": [
    "# Applying many similar mutations.\n",
    "\n",
    "To refactor many similar mutations\n",
    "\n",
    "1. Create an expression `dict`\n",
    "    * key: column name\n",
    "    * value: `X.column` expression\n",
    "2. Use mutate with `**` to unpack the expression `dict`"
   ]
  },
  {
   "cell_type": "markdown",
   "metadata": {},
   "source": [
    "#### MoMA Artists"
   ]
  },
  {
   "cell_type": "code",
   "execution_count": 10,
   "metadata": {},
   "outputs": [
    {
     "data": {
      "text/html": [
       "<div>\n",
       "<style scoped>\n",
       "    .dataframe tbody tr th:only-of-type {\n",
       "        vertical-align: middle;\n",
       "    }\n",
       "\n",
       "    .dataframe tbody tr th {\n",
       "        vertical-align: top;\n",
       "    }\n",
       "\n",
       "    .dataframe thead th {\n",
       "        text-align: right;\n",
       "    }\n",
       "</style>\n",
       "<table border=\"1\" class=\"dataframe\">\n",
       "  <thead>\n",
       "    <tr style=\"text-align: right;\">\n",
       "      <th></th>\n",
       "      <th>ConstituentID</th>\n",
       "      <th>DisplayName</th>\n",
       "      <th>ArtistBio</th>\n",
       "      <th>Nationality</th>\n",
       "      <th>Gender</th>\n",
       "      <th>BeginDate</th>\n",
       "      <th>EndDate</th>\n",
       "      <th>Wiki QID</th>\n",
       "      <th>ULAN</th>\n",
       "    </tr>\n",
       "  </thead>\n",
       "  <tbody>\n",
       "    <tr>\n",
       "      <th>0</th>\n",
       "      <td>1</td>\n",
       "      <td>Robert Arneson</td>\n",
       "      <td>American, 1930–1992</td>\n",
       "      <td>American</td>\n",
       "      <td>Male</td>\n",
       "      <td>1930</td>\n",
       "      <td>1992</td>\n",
       "      <td>NaN</td>\n",
       "      <td>NaN</td>\n",
       "    </tr>\n",
       "    <tr>\n",
       "      <th>1</th>\n",
       "      <td>2</td>\n",
       "      <td>Doroteo Arnaiz</td>\n",
       "      <td>Spanish, born 1936</td>\n",
       "      <td>Spanish</td>\n",
       "      <td>Male</td>\n",
       "      <td>1936</td>\n",
       "      <td>0</td>\n",
       "      <td>NaN</td>\n",
       "      <td>NaN</td>\n",
       "    </tr>\n",
       "  </tbody>\n",
       "</table>\n",
       "</div>"
      ],
      "text/plain": [
       "   ConstituentID     DisplayName            ArtistBio Nationality Gender  \\\n",
       "0              1  Robert Arneson  American, 1930–1992    American   Male   \n",
       "1              2  Doroteo Arnaiz   Spanish, born 1936     Spanish   Male   \n",
       "\n",
       "   BeginDate  EndDate Wiki QID  ULAN  \n",
       "0       1930     1992      NaN   NaN  \n",
       "1       1936        0      NaN   NaN  "
      ]
     },
     "execution_count": 10,
     "metadata": {},
     "output_type": "execute_result"
    }
   ],
   "source": [
    "artists = pd.read_csv(\"./data/Artists.csv\")\n",
    "artists.head(2)"
   ]
  },
  {
   "cell_type": "markdown",
   "metadata": {},
   "source": [
    "#### MoMA Artwork"
   ]
  },
  {
   "cell_type": "code",
   "execution_count": 11,
   "metadata": {},
   "outputs": [
    {
     "data": {
      "text/html": [
       "<div>\n",
       "<style scoped>\n",
       "    .dataframe tbody tr th:only-of-type {\n",
       "        vertical-align: middle;\n",
       "    }\n",
       "\n",
       "    .dataframe tbody tr th {\n",
       "        vertical-align: top;\n",
       "    }\n",
       "\n",
       "    .dataframe thead th {\n",
       "        text-align: right;\n",
       "    }\n",
       "</style>\n",
       "<table border=\"1\" class=\"dataframe\">\n",
       "  <thead>\n",
       "    <tr style=\"text-align: right;\">\n",
       "      <th></th>\n",
       "      <th>Title</th>\n",
       "      <th>Artist</th>\n",
       "      <th>ConstituentID</th>\n",
       "      <th>ArtistBio</th>\n",
       "      <th>Nationality</th>\n",
       "      <th>BeginDate</th>\n",
       "      <th>EndDate</th>\n",
       "      <th>Gender</th>\n",
       "      <th>Date</th>\n",
       "      <th>Medium</th>\n",
       "      <th>...</th>\n",
       "      <th>Circumference_cm</th>\n",
       "      <th>Depth_cm</th>\n",
       "      <th>Diameter_cm</th>\n",
       "      <th>Height_cm</th>\n",
       "      <th>Length_cm</th>\n",
       "      <th>Weight_kg</th>\n",
       "      <th>Width_cm</th>\n",
       "      <th>Seat_Height_cm</th>\n",
       "      <th>Duration_sec</th>\n",
       "      <th>id</th>\n",
       "    </tr>\n",
       "  </thead>\n",
       "  <tbody>\n",
       "    <tr>\n",
       "      <th>0</th>\n",
       "      <td>Ferdinandsbrücke Project, Vienna, Austria (Ele...</td>\n",
       "      <td>Otto Wagner</td>\n",
       "      <td>6210</td>\n",
       "      <td>(Austrian, 1841–1918)</td>\n",
       "      <td>(Austrian)</td>\n",
       "      <td>(1841)</td>\n",
       "      <td>(1918)</td>\n",
       "      <td>(Male)</td>\n",
       "      <td>1896</td>\n",
       "      <td>Ink and cut-and-pasted painted pages on paper</td>\n",
       "      <td>...</td>\n",
       "      <td>NaN</td>\n",
       "      <td>NaN</td>\n",
       "      <td>NaN</td>\n",
       "      <td>48.6000</td>\n",
       "      <td>NaN</td>\n",
       "      <td>NaN</td>\n",
       "      <td>168.9000</td>\n",
       "      <td>NaN</td>\n",
       "      <td>NaN</td>\n",
       "      <td>1</td>\n",
       "    </tr>\n",
       "    <tr>\n",
       "      <th>1</th>\n",
       "      <td>City of Music, National Superior Conservatory ...</td>\n",
       "      <td>Christian de Portzamparc</td>\n",
       "      <td>7470</td>\n",
       "      <td>(French, born 1944)</td>\n",
       "      <td>(French)</td>\n",
       "      <td>(1944)</td>\n",
       "      <td>(0)</td>\n",
       "      <td>(Male)</td>\n",
       "      <td>1987</td>\n",
       "      <td>Paint and colored pencil on print</td>\n",
       "      <td>...</td>\n",
       "      <td>NaN</td>\n",
       "      <td>NaN</td>\n",
       "      <td>NaN</td>\n",
       "      <td>40.6401</td>\n",
       "      <td>NaN</td>\n",
       "      <td>NaN</td>\n",
       "      <td>29.8451</td>\n",
       "      <td>NaN</td>\n",
       "      <td>NaN</td>\n",
       "      <td>2</td>\n",
       "    </tr>\n",
       "  </tbody>\n",
       "</table>\n",
       "<p>2 rows × 30 columns</p>\n",
       "</div>"
      ],
      "text/plain": [
       "                                               Title  \\\n",
       "0  Ferdinandsbrücke Project, Vienna, Austria (Ele...   \n",
       "1  City of Music, National Superior Conservatory ...   \n",
       "\n",
       "                     Artist ConstituentID              ArtistBio Nationality  \\\n",
       "0               Otto Wagner          6210  (Austrian, 1841–1918)  (Austrian)   \n",
       "1  Christian de Portzamparc          7470    (French, born 1944)    (French)   \n",
       "\n",
       "  BeginDate EndDate  Gender  Date  \\\n",
       "0    (1841)  (1918)  (Male)  1896   \n",
       "1    (1944)     (0)  (Male)  1987   \n",
       "\n",
       "                                          Medium  ... Circumference_cm  \\\n",
       "0  Ink and cut-and-pasted painted pages on paper  ...              NaN   \n",
       "1              Paint and colored pencil on print  ...              NaN   \n",
       "\n",
       "  Depth_cm Diameter_cm Height_cm Length_cm Weight_kg  Width_cm  \\\n",
       "0      NaN         NaN   48.6000       NaN       NaN  168.9000   \n",
       "1      NaN         NaN   40.6401       NaN       NaN   29.8451   \n",
       "\n",
       "   Seat_Height_cm Duration_sec id  \n",
       "0             NaN          NaN  1  \n",
       "1             NaN          NaN  2  \n",
       "\n",
       "[2 rows x 30 columns]"
      ]
     },
     "execution_count": 11,
     "metadata": {},
     "output_type": "execute_result"
    }
   ],
   "source": [
    "from more_dfply import fix_names\n",
    "\n",
    "artwork = (pd.read_csv(\"./data/Artworks.csv\")\n",
    "           >> fix_names\n",
    "           >> mutate(id = X.index + 1)\n",
    "          )\n",
    "artwork.head(2)"
   ]
  },
  {
   "cell_type": "markdown",
   "metadata": {},
   "source": [
    "#### Making the expression `dict`"
   ]
  },
  {
   "cell_type": "code",
   "execution_count": 12,
   "metadata": {},
   "outputs": [
    {
     "data": {
      "text/plain": [
       "{'log10_plus_1': <dfply.base.Intention at 0x114f88450>,\n",
       " 'log2_plus_1': <dfply.base.Intention at 0x114f88710>,\n",
       " 'log2.718281828459045_plus_1': <dfply.base.Intention at 0x1015c99d0>}"
      ]
     },
     "execution_count": 12,
     "metadata": {},
     "output_type": "execute_result"
    }
   ],
   "source": [
    "from math import log, e\n",
    "log1p = lambda num, base=e: log(num + 1, base)\n",
    "log_columns = {'log{0}_plus_1'.format(base):X.Height_cm.apply(log1p, base = base)\n",
    "               for base in (10, 2, e)}\n",
    "log_columns "
   ]
  },
  {
   "cell_type": "markdown",
   "metadata": {},
   "source": [
    "#### Unpacking the expression in `mutate`"
   ]
  },
  {
   "cell_type": "code",
   "execution_count": 13,
   "metadata": {
    "scrolled": true
   },
   "outputs": [
    {
     "data": {
      "text/html": [
       "<div>\n",
       "<style scoped>\n",
       "    .dataframe tbody tr th:only-of-type {\n",
       "        vertical-align: middle;\n",
       "    }\n",
       "\n",
       "    .dataframe tbody tr th {\n",
       "        vertical-align: top;\n",
       "    }\n",
       "\n",
       "    .dataframe thead th {\n",
       "        text-align: right;\n",
       "    }\n",
       "</style>\n",
       "<table border=\"1\" class=\"dataframe\">\n",
       "  <thead>\n",
       "    <tr style=\"text-align: right;\">\n",
       "      <th></th>\n",
       "      <th>Height_cm</th>\n",
       "      <th>log10_plus_1</th>\n",
       "      <th>log2_plus_1</th>\n",
       "      <th>log2.718281828459045_plus_1</th>\n",
       "    </tr>\n",
       "  </thead>\n",
       "  <tbody>\n",
       "    <tr>\n",
       "      <th>0</th>\n",
       "      <td>48.6000</td>\n",
       "      <td>1.695482</td>\n",
       "      <td>5.632268</td>\n",
       "      <td>3.903991</td>\n",
       "    </tr>\n",
       "    <tr>\n",
       "      <th>1</th>\n",
       "      <td>40.6401</td>\n",
       "      <td>1.619512</td>\n",
       "      <td>5.379902</td>\n",
       "      <td>3.729064</td>\n",
       "    </tr>\n",
       "    <tr>\n",
       "      <th>2</th>\n",
       "      <td>34.3000</td>\n",
       "      <td>1.547775</td>\n",
       "      <td>5.141596</td>\n",
       "      <td>3.563883</td>\n",
       "    </tr>\n",
       "  </tbody>\n",
       "</table>\n",
       "</div>"
      ],
      "text/plain": [
       "   Height_cm  log10_plus_1  log2_plus_1  log2.718281828459045_plus_1\n",
       "0    48.6000      1.695482     5.632268                     3.903991\n",
       "1    40.6401      1.619512     5.379902                     3.729064\n",
       "2    34.3000      1.547775     5.141596                     3.563883"
      ]
     },
     "execution_count": 13,
     "metadata": {},
     "output_type": "execute_result"
    }
   ],
   "source": [
    "(artwork\n",
    " >> select(X.Height_cm)\n",
    " >> mutate(**log_columns)\n",
    " >> head(3)\n",
    ")"
   ]
  },
  {
   "cell_type": "markdown",
   "metadata": {},
   "source": [
    "## Applying the same transformation on many different columns\n",
    "\n",
    "Use `X['column']` if you need to reference columns"
   ]
  },
  {
   "cell_type": "markdown",
   "metadata": {},
   "source": [
    "#### Define the column expressions"
   ]
  },
  {
   "cell_type": "code",
   "execution_count": 14,
   "metadata": {},
   "outputs": [
    {
     "data": {
      "text/plain": [
       "{'log_Circumference_cm': <dfply.base.Intention at 0x114c83dd0>,\n",
       " 'log_Depth_cm': <dfply.base.Intention at 0x114c83f50>,\n",
       " 'log_Diameter_cm': <dfply.base.Intention at 0x114c83550>,\n",
       " 'log_Height_cm': <dfply.base.Intention at 0x116055cd0>,\n",
       " 'log_Length_cm': <dfply.base.Intention at 0x10365d0d0>,\n",
       " 'log_Width_cm': <dfply.base.Intention at 0x1150c5350>,\n",
       " 'log_Seat_Height_cm': <dfply.base.Intention at 0x114f888d0>}"
      ]
     },
     "execution_count": 14,
     "metadata": {},
     "output_type": "execute_result"
    }
   ],
   "source": [
    "columns_to_log = contains('_cm').evaluate(artwork)\n",
    "log_dimensions = {'log_{0}'.format(c):X[c].apply(log1p)\n",
    "                  for c in columns_to_log}\n",
    "log_dimensions"
   ]
  },
  {
   "cell_type": "markdown",
   "metadata": {},
   "source": [
    "#### Unpack the expressions"
   ]
  },
  {
   "cell_type": "code",
   "execution_count": 15,
   "metadata": {},
   "outputs": [
    {
     "data": {
      "text/html": [
       "<div>\n",
       "<style scoped>\n",
       "    .dataframe tbody tr th:only-of-type {\n",
       "        vertical-align: middle;\n",
       "    }\n",
       "\n",
       "    .dataframe tbody tr th {\n",
       "        vertical-align: top;\n",
       "    }\n",
       "\n",
       "    .dataframe thead th {\n",
       "        text-align: right;\n",
       "    }\n",
       "</style>\n",
       "<table border=\"1\" class=\"dataframe\">\n",
       "  <thead>\n",
       "    <tr style=\"text-align: right;\">\n",
       "      <th></th>\n",
       "      <th>Circumference_cm</th>\n",
       "      <th>Depth_cm</th>\n",
       "      <th>Diameter_cm</th>\n",
       "      <th>Height_cm</th>\n",
       "      <th>Length_cm</th>\n",
       "      <th>Width_cm</th>\n",
       "      <th>Seat_Height_cm</th>\n",
       "      <th>log_Circumference_cm</th>\n",
       "      <th>log_Depth_cm</th>\n",
       "      <th>log_Diameter_cm</th>\n",
       "      <th>log_Height_cm</th>\n",
       "      <th>log_Length_cm</th>\n",
       "      <th>log_Width_cm</th>\n",
       "      <th>log_Seat_Height_cm</th>\n",
       "    </tr>\n",
       "  </thead>\n",
       "  <tbody>\n",
       "    <tr>\n",
       "      <th>0</th>\n",
       "      <td>NaN</td>\n",
       "      <td>NaN</td>\n",
       "      <td>NaN</td>\n",
       "      <td>48.6000</td>\n",
       "      <td>NaN</td>\n",
       "      <td>168.9000</td>\n",
       "      <td>NaN</td>\n",
       "      <td>NaN</td>\n",
       "      <td>NaN</td>\n",
       "      <td>NaN</td>\n",
       "      <td>3.903991</td>\n",
       "      <td>NaN</td>\n",
       "      <td>5.135210</td>\n",
       "      <td>NaN</td>\n",
       "    </tr>\n",
       "    <tr>\n",
       "      <th>1</th>\n",
       "      <td>NaN</td>\n",
       "      <td>NaN</td>\n",
       "      <td>NaN</td>\n",
       "      <td>40.6401</td>\n",
       "      <td>NaN</td>\n",
       "      <td>29.8451</td>\n",
       "      <td>NaN</td>\n",
       "      <td>NaN</td>\n",
       "      <td>NaN</td>\n",
       "      <td>NaN</td>\n",
       "      <td>3.729064</td>\n",
       "      <td>NaN</td>\n",
       "      <td>3.428978</td>\n",
       "      <td>NaN</td>\n",
       "    </tr>\n",
       "    <tr>\n",
       "      <th>2</th>\n",
       "      <td>NaN</td>\n",
       "      <td>NaN</td>\n",
       "      <td>NaN</td>\n",
       "      <td>34.3000</td>\n",
       "      <td>NaN</td>\n",
       "      <td>31.8000</td>\n",
       "      <td>NaN</td>\n",
       "      <td>NaN</td>\n",
       "      <td>NaN</td>\n",
       "      <td>NaN</td>\n",
       "      <td>3.563883</td>\n",
       "      <td>NaN</td>\n",
       "      <td>3.490429</td>\n",
       "      <td>NaN</td>\n",
       "    </tr>\n",
       "  </tbody>\n",
       "</table>\n",
       "</div>"
      ],
      "text/plain": [
       "   Circumference_cm  Depth_cm  Diameter_cm  Height_cm  Length_cm  Width_cm  \\\n",
       "0               NaN       NaN          NaN    48.6000        NaN  168.9000   \n",
       "1               NaN       NaN          NaN    40.6401        NaN   29.8451   \n",
       "2               NaN       NaN          NaN    34.3000        NaN   31.8000   \n",
       "\n",
       "   Seat_Height_cm  log_Circumference_cm  log_Depth_cm  log_Diameter_cm  \\\n",
       "0             NaN                   NaN           NaN              NaN   \n",
       "1             NaN                   NaN           NaN              NaN   \n",
       "2             NaN                   NaN           NaN              NaN   \n",
       "\n",
       "   log_Height_cm  log_Length_cm  log_Width_cm  log_Seat_Height_cm  \n",
       "0       3.903991            NaN      5.135210                 NaN  \n",
       "1       3.729064            NaN      3.428978                 NaN  \n",
       "2       3.563883            NaN      3.490429                 NaN  "
      ]
     },
     "execution_count": 15,
     "metadata": {},
     "output_type": "execute_result"
    }
   ],
   "source": [
    "(artwork\n",
    " >> select(contains('_cm'))\n",
    " >> mutate(**log_dimensions)\n",
    " >> head(3)\n",
    ")"
   ]
  },
  {
   "cell_type": "markdown",
   "metadata": {},
   "source": [
    "## Applying many similar mutations in `pyspark`\n",
    "\n",
    "We can use the `dfply_spark.mutate` introduced in the last chapter."
   ]
  },
  {
   "cell_type": "markdown",
   "metadata": {},
   "source": [
    "## <font color=\"red\"> Exercise 3.5.1 </font>\n",
    "\n",
    "An **Indicator column** for a category contains 1 for the rows that match that label and 0 otherwise.  Again, create indicator columns for each of the categories in `exhibitions.ExhibitionRole`, but this time use the techniques in this section to make your solution more [DRY](https://en.wikipedia.org/wiki/Don%27t_repeat_yourself)"
   ]
  },
  {
   "cell_type": "code",
   "execution_count": 16,
   "metadata": {},
   "outputs": [
    {
     "data": {
      "text/html": [
       "<div>\n",
       "<style scoped>\n",
       "    .dataframe tbody tr th:only-of-type {\n",
       "        vertical-align: middle;\n",
       "    }\n",
       "\n",
       "    .dataframe tbody tr th {\n",
       "        vertical-align: top;\n",
       "    }\n",
       "\n",
       "    .dataframe thead th {\n",
       "        text-align: right;\n",
       "    }\n",
       "</style>\n",
       "<table border=\"1\" class=\"dataframe\">\n",
       "  <thead>\n",
       "    <tr style=\"text-align: right;\">\n",
       "      <th></th>\n",
       "      <th>ExhibitionID</th>\n",
       "      <th>ExhibitionNumber</th>\n",
       "      <th>ExhibitionTitle</th>\n",
       "      <th>ExhibitionCitationDate</th>\n",
       "      <th>ExhibitionBeginDate</th>\n",
       "      <th>ExhibitionEndDate</th>\n",
       "      <th>ExhibitionSortOrder</th>\n",
       "      <th>ExhibitionURL</th>\n",
       "      <th>ExhibitionRole</th>\n",
       "      <th>ExhibitionRoleinPressRelease</th>\n",
       "      <th>...</th>\n",
       "      <th>Institution</th>\n",
       "      <th>Nationality</th>\n",
       "      <th>ConstituentBeginDate</th>\n",
       "      <th>ConstituentEndDate</th>\n",
       "      <th>ArtistBio</th>\n",
       "      <th>Gender</th>\n",
       "      <th>VIAFID</th>\n",
       "      <th>WikidataID</th>\n",
       "      <th>ULANID</th>\n",
       "      <th>ConstituentURL</th>\n",
       "    </tr>\n",
       "  </thead>\n",
       "  <tbody>\n",
       "    <tr>\n",
       "      <th>0</th>\n",
       "      <td>2557.0</td>\n",
       "      <td>1</td>\n",
       "      <td>Cézanne, Gauguin, Seurat, Van Gogh</td>\n",
       "      <td>[MoMA Exh. #1, November 7-December 7, 1929]</td>\n",
       "      <td>1929-11-07</td>\n",
       "      <td>1929-12-07</td>\n",
       "      <td>1.0</td>\n",
       "      <td>moma.org/calendar/exhibitions/1767</td>\n",
       "      <td>Curator</td>\n",
       "      <td>Director</td>\n",
       "      <td>...</td>\n",
       "      <td>NaN</td>\n",
       "      <td>American</td>\n",
       "      <td>1902</td>\n",
       "      <td>1981</td>\n",
       "      <td>American, 19021981</td>\n",
       "      <td>Male</td>\n",
       "      <td>109252853.0</td>\n",
       "      <td>Q711362</td>\n",
       "      <td>500241556.0</td>\n",
       "      <td>moma.org/artists/9168</td>\n",
       "    </tr>\n",
       "    <tr>\n",
       "      <th>1</th>\n",
       "      <td>2557.0</td>\n",
       "      <td>1</td>\n",
       "      <td>Cézanne, Gauguin, Seurat, Van Gogh</td>\n",
       "      <td>[MoMA Exh. #1, November 7-December 7, 1929]</td>\n",
       "      <td>1929-11-07</td>\n",
       "      <td>1929-12-07</td>\n",
       "      <td>1.0</td>\n",
       "      <td>moma.org/calendar/exhibitions/1767</td>\n",
       "      <td>Artist</td>\n",
       "      <td>Artist</td>\n",
       "      <td>...</td>\n",
       "      <td>NaN</td>\n",
       "      <td>French</td>\n",
       "      <td>1839</td>\n",
       "      <td>1906</td>\n",
       "      <td>French, 18391906</td>\n",
       "      <td>Male</td>\n",
       "      <td>39374836.0</td>\n",
       "      <td>Q35548</td>\n",
       "      <td>500004793.0</td>\n",
       "      <td>moma.org/artists/1053</td>\n",
       "    </tr>\n",
       "  </tbody>\n",
       "</table>\n",
       "<p>2 rows × 28 columns</p>\n",
       "</div>"
      ],
      "text/plain": [
       "   ExhibitionID ExhibitionNumber                     ExhibitionTitle  \\\n",
       "0        2557.0                1  Cézanne, Gauguin, Seurat, Van Gogh   \n",
       "1        2557.0                1  Cézanne, Gauguin, Seurat, Van Gogh   \n",
       "\n",
       "                        ExhibitionCitationDate ExhibitionBeginDate  \\\n",
       "0  [MoMA Exh. #1, November 7-December 7, 1929]          1929-11-07   \n",
       "1  [MoMA Exh. #1, November 7-December 7, 1929]          1929-11-07   \n",
       "\n",
       "  ExhibitionEndDate  ExhibitionSortOrder                       ExhibitionURL  \\\n",
       "0        1929-12-07                  1.0  moma.org/calendar/exhibitions/1767   \n",
       "1        1929-12-07                  1.0  moma.org/calendar/exhibitions/1767   \n",
       "\n",
       "  ExhibitionRole ExhibitionRoleinPressRelease  ...  Institution Nationality  \\\n",
       "0        Curator                     Director  ...          NaN    American   \n",
       "1         Artist                       Artist  ...          NaN      French   \n",
       "\n",
       "  ConstituentBeginDate ConstituentEndDate            ArtistBio Gender  \\\n",
       "0                 1902               1981  American, 19021981   Male   \n",
       "1                 1839               1906    French, 18391906   Male   \n",
       "\n",
       "        VIAFID WikidataID       ULANID         ConstituentURL  \n",
       "0  109252853.0    Q711362  500241556.0  moma.org/artists/9168  \n",
       "1   39374836.0     Q35548  500004793.0  moma.org/artists/1053  \n",
       "\n",
       "[2 rows x 28 columns]"
      ]
     },
     "execution_count": 16,
     "metadata": {},
     "output_type": "execute_result"
    }
   ],
   "source": [
    "replace_nan = {np.NaN:'Unknown'}\n",
    "new_exhibition =(exhibitions\n",
    "                 >> mutate(ExhibitionRole = X.ExhibitionRole.replace(replace_nan))\n",
    "                )\n",
    "new_exhibition.head(2)"
   ]
  },
  {
   "cell_type": "code",
   "execution_count": 17,
   "metadata": {},
   "outputs": [
    {
     "data": {
      "text/plain": [
       "{'Curator': <dfply.base.Intention at 0x114f85d90>,\n",
       " 'Artist': <dfply.base.Intention at 0x1154d1310>,\n",
       " 'Unknown': <dfply.base.Intention at 0x114f85650>,\n",
       " 'Arranger': <dfply.base.Intention at 0x114f8e3d0>,\n",
       " 'Installer': <dfply.base.Intention at 0x114f8e990>,\n",
       " 'Competition Judge': <dfply.base.Intention at 0x114f850d0>,\n",
       " 'Designer': <dfply.base.Intention at 0x114f8e090>,\n",
       " 'Preparer': <dfply.base.Intention at 0x114f8ea90>}"
      ]
     },
     "execution_count": 17,
     "metadata": {},
     "output_type": "execute_result"
    }
   ],
   "source": [
    "# Your code here\n",
    "from collections import defaultdict\n",
    "from composable import pipeable\n",
    "\n",
    "\n",
    "make_indicator = pipeable(lambda lbl, val: 1 if lbl == val else 0)\n",
    "new_role = X.ExhibitionRole.evaluate(new_exhibition)\n",
    "\n",
    "role_columns = {'{0}'.format(role):X.ExhibitionRole.map(make_indicator(role)) for role in new_role}\n",
    "role_columns"
   ]
  },
  {
   "cell_type": "code",
   "execution_count": 18,
   "metadata": {},
   "outputs": [
    {
     "name": "stdout",
     "output_type": "stream",
     "text": [
      "Help on pipeable in module __main__:\n",
      "\n",
      "<lambda> lambda lbl='__no__default__', val='__no__default__'\n",
      "\n"
     ]
    }
   ],
   "source": [
    "help(make_indicator)"
   ]
  },
  {
   "cell_type": "code",
   "execution_count": 19,
   "metadata": {},
   "outputs": [
    {
     "data": {
      "text/html": [
       "<div>\n",
       "<style scoped>\n",
       "    .dataframe tbody tr th:only-of-type {\n",
       "        vertical-align: middle;\n",
       "    }\n",
       "\n",
       "    .dataframe tbody tr th {\n",
       "        vertical-align: top;\n",
       "    }\n",
       "\n",
       "    .dataframe thead th {\n",
       "        text-align: right;\n",
       "    }\n",
       "</style>\n",
       "<table border=\"1\" class=\"dataframe\">\n",
       "  <thead>\n",
       "    <tr style=\"text-align: right;\">\n",
       "      <th></th>\n",
       "      <th>ExhibitionRole</th>\n",
       "      <th>Curator</th>\n",
       "      <th>Artist</th>\n",
       "      <th>Unknown</th>\n",
       "      <th>Arranger</th>\n",
       "      <th>Installer</th>\n",
       "      <th>Competition Judge</th>\n",
       "      <th>Designer</th>\n",
       "      <th>Preparer</th>\n",
       "    </tr>\n",
       "  </thead>\n",
       "  <tbody>\n",
       "    <tr>\n",
       "      <th>0</th>\n",
       "      <td>Curator</td>\n",
       "      <td>1</td>\n",
       "      <td>0</td>\n",
       "      <td>0</td>\n",
       "      <td>0</td>\n",
       "      <td>0</td>\n",
       "      <td>0</td>\n",
       "      <td>0</td>\n",
       "      <td>0</td>\n",
       "    </tr>\n",
       "    <tr>\n",
       "      <th>1</th>\n",
       "      <td>Artist</td>\n",
       "      <td>0</td>\n",
       "      <td>1</td>\n",
       "      <td>0</td>\n",
       "      <td>0</td>\n",
       "      <td>0</td>\n",
       "      <td>0</td>\n",
       "      <td>0</td>\n",
       "      <td>0</td>\n",
       "    </tr>\n",
       "    <tr>\n",
       "      <th>2</th>\n",
       "      <td>Artist</td>\n",
       "      <td>0</td>\n",
       "      <td>1</td>\n",
       "      <td>0</td>\n",
       "      <td>0</td>\n",
       "      <td>0</td>\n",
       "      <td>0</td>\n",
       "      <td>0</td>\n",
       "      <td>0</td>\n",
       "    </tr>\n",
       "    <tr>\n",
       "      <th>3</th>\n",
       "      <td>Artist</td>\n",
       "      <td>0</td>\n",
       "      <td>1</td>\n",
       "      <td>0</td>\n",
       "      <td>0</td>\n",
       "      <td>0</td>\n",
       "      <td>0</td>\n",
       "      <td>0</td>\n",
       "      <td>0</td>\n",
       "    </tr>\n",
       "    <tr>\n",
       "      <th>4</th>\n",
       "      <td>Artist</td>\n",
       "      <td>0</td>\n",
       "      <td>1</td>\n",
       "      <td>0</td>\n",
       "      <td>0</td>\n",
       "      <td>0</td>\n",
       "      <td>0</td>\n",
       "      <td>0</td>\n",
       "      <td>0</td>\n",
       "    </tr>\n",
       "  </tbody>\n",
       "</table>\n",
       "</div>"
      ],
      "text/plain": [
       "  ExhibitionRole  Curator  Artist  Unknown  Arranger  Installer  \\\n",
       "0        Curator        1       0        0         0          0   \n",
       "1         Artist        0       1        0         0          0   \n",
       "2         Artist        0       1        0         0          0   \n",
       "3         Artist        0       1        0         0          0   \n",
       "4         Artist        0       1        0         0          0   \n",
       "\n",
       "   Competition Judge  Designer  Preparer  \n",
       "0                  0         0         0  \n",
       "1                  0         0         0  \n",
       "2                  0         0         0  \n",
       "3                  0         0         0  \n",
       "4                  0         0         0  "
      ]
     },
     "execution_count": 19,
     "metadata": {},
     "output_type": "execute_result"
    }
   ],
   "source": [
    "(new_exhibition\n",
    " >> select(X.ExhibitionRole)\n",
    " >> mutate(**role_columns)\n",
    " >> head()\n",
    ")"
   ]
  },
  {
   "cell_type": "code",
   "execution_count": 20,
   "metadata": {},
   "outputs": [
    {
     "data": {
      "text/plain": [
       "0        Curator\n",
       "1         Artist\n",
       "2         Artist\n",
       "3         Artist\n",
       "4         Artist\n",
       "          ...   \n",
       "34553     Artist\n",
       "34554     Artist\n",
       "34555     Artist\n",
       "34556     Artist\n",
       "34557    Curator\n",
       "Name: ExhibitionRole, Length: 34558, dtype: object"
      ]
     },
     "execution_count": 20,
     "metadata": {},
     "output_type": "execute_result"
    }
   ],
   "source": [
    "X.ExhibitionRole.evaluate(exhibitions)"
   ]
  },
  {
   "cell_type": "markdown",
   "metadata": {},
   "source": [
    "## <font color=\"red\"> Exercise 3.5.2</font>\n",
    "\n",
    "We would like to convert all dimensions that are measured in cm to m.   To do this, perform the following tasks.\n",
    "\n",
    "1. Create a regular expression match all dimension columns.  Use your RegEx to create a list of column names.\n",
    "2. Create a `dict` with *new column names* as keys and column expressions that convert the corresponding column to m, where the expressions use `Intentions` to build the expressions.  **Hint:** Use a `dict` comprehension with an expression for the keys that changes `_cm` to `_m` in each of the old column names.  \n",
    "3. Use the techniques shown in this section to apply these transformations using `mutate` and keyword unpacking to ensure your solution is DRY!"
   ]
  },
  {
   "cell_type": "code",
   "execution_count": 22,
   "metadata": {},
   "outputs": [
    {
     "data": {
      "text/plain": [
       "Index(['Circumference_cm', 'Depth_cm', 'Diameter_cm', 'Height_cm', 'Length_cm',\n",
       "       'Width_cm', 'Seat_Height_cm'],\n",
       "      dtype='object')"
      ]
     },
     "execution_count": 22,
     "metadata": {},
     "output_type": "execute_result"
    }
   ],
   "source": [
    "# Your code here\n",
    "# list column names that contains _cm\n",
    "colNames = artwork.columns[artwork.columns.str.contains(pat = '_cm')]\n",
    "colNames\n"
   ]
  },
  {
   "cell_type": "code",
   "execution_count": 23,
   "metadata": {},
   "outputs": [],
   "source": [
    "# convert cm to m\n",
    "convert_m = lambda x: x/100\n",
    "convert_col = {'{0}'.format(m):X[m].apply(convert_m) for m in colNames}\n",
    "convert_col\n",
    "\n",
    "# change name\n",
    "change_name = lambda n: n.lower().replace('_cm', '_m')\n",
    "change_to_m = {change_name(n):n for n in colNames}"
   ]
  },
  {
   "cell_type": "code",
   "execution_count": 25,
   "metadata": {},
   "outputs": [
    {
     "data": {
      "text/html": [
       "<div>\n",
       "<style scoped>\n",
       "    .dataframe tbody tr th:only-of-type {\n",
       "        vertical-align: middle;\n",
       "    }\n",
       "\n",
       "    .dataframe tbody tr th {\n",
       "        vertical-align: top;\n",
       "    }\n",
       "\n",
       "    .dataframe thead th {\n",
       "        text-align: right;\n",
       "    }\n",
       "</style>\n",
       "<table border=\"1\" class=\"dataframe\">\n",
       "  <thead>\n",
       "    <tr style=\"text-align: right;\">\n",
       "      <th></th>\n",
       "      <th>circumference_m</th>\n",
       "      <th>depth_m</th>\n",
       "      <th>diameter_m</th>\n",
       "      <th>height_m</th>\n",
       "      <th>length_m</th>\n",
       "      <th>width_m</th>\n",
       "      <th>seat_height_m</th>\n",
       "    </tr>\n",
       "  </thead>\n",
       "  <tbody>\n",
       "    <tr>\n",
       "      <th>0</th>\n",
       "      <td>NaN</td>\n",
       "      <td>NaN</td>\n",
       "      <td>NaN</td>\n",
       "      <td>0.486000</td>\n",
       "      <td>NaN</td>\n",
       "      <td>1.689000</td>\n",
       "      <td>NaN</td>\n",
       "    </tr>\n",
       "    <tr>\n",
       "      <th>1</th>\n",
       "      <td>NaN</td>\n",
       "      <td>NaN</td>\n",
       "      <td>NaN</td>\n",
       "      <td>0.406401</td>\n",
       "      <td>NaN</td>\n",
       "      <td>0.298451</td>\n",
       "      <td>NaN</td>\n",
       "    </tr>\n",
       "    <tr>\n",
       "      <th>2</th>\n",
       "      <td>NaN</td>\n",
       "      <td>NaN</td>\n",
       "      <td>NaN</td>\n",
       "      <td>0.343000</td>\n",
       "      <td>NaN</td>\n",
       "      <td>0.318000</td>\n",
       "      <td>NaN</td>\n",
       "    </tr>\n",
       "    <tr>\n",
       "      <th>3</th>\n",
       "      <td>NaN</td>\n",
       "      <td>NaN</td>\n",
       "      <td>NaN</td>\n",
       "      <td>0.508000</td>\n",
       "      <td>NaN</td>\n",
       "      <td>0.508000</td>\n",
       "      <td>NaN</td>\n",
       "    </tr>\n",
       "    <tr>\n",
       "      <th>4</th>\n",
       "      <td>NaN</td>\n",
       "      <td>NaN</td>\n",
       "      <td>NaN</td>\n",
       "      <td>0.384000</td>\n",
       "      <td>NaN</td>\n",
       "      <td>0.191000</td>\n",
       "      <td>NaN</td>\n",
       "    </tr>\n",
       "  </tbody>\n",
       "</table>\n",
       "</div>"
      ],
      "text/plain": [
       "   circumference_m  depth_m  diameter_m  height_m  length_m   width_m  \\\n",
       "0              NaN      NaN         NaN  0.486000       NaN  1.689000   \n",
       "1              NaN      NaN         NaN  0.406401       NaN  0.298451   \n",
       "2              NaN      NaN         NaN  0.343000       NaN  0.318000   \n",
       "3              NaN      NaN         NaN  0.508000       NaN  0.508000   \n",
       "4              NaN      NaN         NaN  0.384000       NaN  0.191000   \n",
       "\n",
       "   seat_height_m  \n",
       "0            NaN  \n",
       "1            NaN  \n",
       "2            NaN  \n",
       "3            NaN  \n",
       "4            NaN  "
      ]
     },
     "execution_count": 25,
     "metadata": {},
     "output_type": "execute_result"
    }
   ],
   "source": [
    "(artwork \n",
    " >> select(colNames)\n",
    " >> mutate(**convert_col)\n",
    " >> rename(**change_to_m)\n",
    " >> head()\n",
    ")\n"
   ]
  },
  {
   "cell_type": "code",
   "execution_count": null,
   "metadata": {},
   "outputs": [],
   "source": []
  },
  {
   "cell_type": "code",
   "execution_count": null,
   "metadata": {},
   "outputs": [],
   "source": []
  },
  {
   "cell_type": "code",
   "execution_count": null,
   "metadata": {},
   "outputs": [],
   "source": []
  }
 ],
 "metadata": {
  "kernelspec": {
   "display_name": "Python 3",
   "language": "python",
   "name": "python3"
  },
  "language_info": {
   "codemirror_mode": {
    "name": "ipython",
    "version": 3
   },
   "file_extension": ".py",
   "mimetype": "text/x-python",
   "name": "python",
   "nbconvert_exporter": "python",
   "pygments_lexer": "ipython3",
   "version": "3.7.6"
  },
  "varInspector": {
   "cols": {
    "lenName": 16,
    "lenType": 16,
    "lenVar": 40
   },
   "kernels_config": {
    "python": {
     "delete_cmd_postfix": "",
     "delete_cmd_prefix": "del ",
     "library": "var_list.py",
     "varRefreshCmd": "print(var_dic_list())"
    },
    "r": {
     "delete_cmd_postfix": ") ",
     "delete_cmd_prefix": "rm(",
     "library": "var_list.r",
     "varRefreshCmd": "cat(var_dic_list()) "
    }
   },
   "types_to_exclude": [
    "module",
    "function",
    "builtin_function_or_method",
    "instance",
    "_Feature"
   ],
   "window_display": false
  }
 },
 "nbformat": 4,
 "nbformat_minor": 2
}
